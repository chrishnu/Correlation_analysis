{
 "cells": [
  {
   "cell_type": "code",
   "execution_count": 1,
   "id": "2dabf6a3-84a9-44cc-a660-41f722c9a6df",
   "metadata": {},
   "outputs": [],
   "source": [
    "import pandas as pd\n",
    "import numpy as np"
   ]
  },
  {
   "cell_type": "code",
   "execution_count": 2,
   "id": "d76354c3-bce8-4919-8034-69ed557b1b13",
   "metadata": {},
   "outputs": [],
   "source": [
    "data = pd.read_csv(\"data_simulated.csv\")"
   ]
  },
  {
   "cell_type": "code",
   "execution_count": 4,
   "id": "80494f0d-aa17-4f7d-a19e-4dee899f59a2",
   "metadata": {},
   "outputs": [
    {
     "data": {
      "text/html": [
       "<div>\n",
       "<style scoped>\n",
       "    .dataframe tbody tr th:only-of-type {\n",
       "        vertical-align: middle;\n",
       "    }\n",
       "\n",
       "    .dataframe tbody tr th {\n",
       "        vertical-align: top;\n",
       "    }\n",
       "\n",
       "    .dataframe thead th {\n",
       "        text-align: right;\n",
       "    }\n",
       "</style>\n",
       "<table border=\"1\" class=\"dataframe\">\n",
       "  <thead>\n",
       "    <tr style=\"text-align: right;\">\n",
       "      <th></th>\n",
       "      <th>x</th>\n",
       "      <th>y1</th>\n",
       "      <th>y2</th>\n",
       "      <th>y3</th>\n",
       "      <th>y4</th>\n",
       "    </tr>\n",
       "  </thead>\n",
       "  <tbody>\n",
       "    <tr>\n",
       "      <th>0</th>\n",
       "      <td>-2.0</td>\n",
       "      <td>0.416867</td>\n",
       "      <td>4.725866</td>\n",
       "      <td>0.426178</td>\n",
       "      <td>4.979696</td>\n",
       "    </tr>\n",
       "    <tr>\n",
       "      <th>1</th>\n",
       "      <td>-1.9</td>\n",
       "      <td>-0.038024</td>\n",
       "      <td>4.028274</td>\n",
       "      <td>2.518352</td>\n",
       "      <td>5.285997</td>\n",
       "    </tr>\n",
       "    <tr>\n",
       "      <th>2</th>\n",
       "      <td>-1.8</td>\n",
       "      <td>0.022499</td>\n",
       "      <td>3.127812</td>\n",
       "      <td>0.935069</td>\n",
       "      <td>5.598861</td>\n",
       "    </tr>\n",
       "    <tr>\n",
       "      <th>3</th>\n",
       "      <td>-1.7</td>\n",
       "      <td>0.343744</td>\n",
       "      <td>3.818717</td>\n",
       "      <td>2.047054</td>\n",
       "      <td>4.838300</td>\n",
       "    </tr>\n",
       "    <tr>\n",
       "      <th>4</th>\n",
       "      <td>-1.6</td>\n",
       "      <td>1.526128</td>\n",
       "      <td>3.223539</td>\n",
       "      <td>2.848047</td>\n",
       "      <td>4.723509</td>\n",
       "    </tr>\n",
       "  </tbody>\n",
       "</table>\n",
       "</div>"
      ],
      "text/plain": [
       "     x        y1        y2        y3        y4\n",
       "0 -2.0  0.416867  4.725866  0.426178  4.979696\n",
       "1 -1.9 -0.038024  4.028274  2.518352  5.285997\n",
       "2 -1.8  0.022499  3.127812  0.935069  5.598861\n",
       "3 -1.7  0.343744  3.818717  2.047054  4.838300\n",
       "4 -1.6  1.526128  3.223539  2.848047  4.723509"
      ]
     },
     "execution_count": 4,
     "metadata": {},
     "output_type": "execute_result"
    }
   ],
   "source": [
    "data.head()"
   ]
  },
  {
   "cell_type": "code",
   "execution_count": 5,
   "id": "3f807515-2570-4e12-8519-defb1f72f278",
   "metadata": {},
   "outputs": [],
   "source": [
    "# Custom function to calculate correlation manually\n",
    "def manual_correlation(x, y):\n",
    "    n = len(x)\n",
    "    mean_x = np.mean(x)\n",
    "    mean_y = np.mean(y)\n",
    "    numerator = np.sum((x - mean_x) * (y - mean_y))\n",
    "    denominator = np.sqrt(np.sum((x - mean_x)**2) * np.sum((y - mean_y)**2))\n",
    "    correlation = numerator / denominator\n",
    "    return correlation"
   ]
  },
  {
   "cell_type": "code",
   "execution_count": 6,
   "id": "1010b464-ed7e-4a5a-9612-b17562c91e12",
   "metadata": {},
   "outputs": [],
   "source": [
    "# Calculate correlations between each pair of variables\n",
    "correlations = {\n",
    "    \"Pair\": [\"x & y1\", \"x & y2\", \"x & y3\", \"x & y4\", \"y1 & y2\", \n",
    "             \"y1 & y3\", \"y1 & y4\", \"y2 & y3\", \"y2 & y4\", \"y3 & y4\"],\n",
    "    \"Correlation\": [\n",
    "        manual_correlation(data[\"x\"], data[\"y1\"]),\n",
    "        manual_correlation(data[\"x\"], data[\"y2\"]),\n",
    "        manual_correlation(data[\"x\"], data[\"y3\"]),\n",
    "        manual_correlation(data[\"x\"], data[\"y4\"]),\n",
    "        manual_correlation(data[\"y1\"], data[\"y2\"]),\n",
    "        manual_correlation(data[\"y1\"], data[\"y3\"]),\n",
    "        manual_correlation(data[\"y1\"], data[\"y4\"]),\n",
    "        manual_correlation(data[\"y2\"], data[\"y3\"]),\n",
    "        manual_correlation(data[\"y2\"], data[\"y4\"]),\n",
    "        manual_correlation(data[\"y3\"], data[\"y4\"])\n",
    "    ]\n",
    "}"
   ]
  },
  {
   "cell_type": "code",
   "execution_count": null,
   "id": "025e01cd-b1c0-4ca7-b932-14e3f2a277ee",
   "metadata": {},
   "outputs": [],
   "source": [
    "\n",
    "# Convert the results to a DataFrame and display\n",
    "correlation_df = pd.DataFrame(correlations)\n",
    "print(correlation_df)"
   ]
  }
 ],
 "metadata": {
  "kernelspec": {
   "display_name": "Python 3 (ipykernel)",
   "language": "python",
   "name": "python3"
  },
  "language_info": {
   "codemirror_mode": {
    "name": "ipython",
    "version": 3
   },
   "file_extension": ".py",
   "mimetype": "text/x-python",
   "name": "python",
   "nbconvert_exporter": "python",
   "pygments_lexer": "ipython3",
   "version": "3.12.3"
  }
 },
 "nbformat": 4,
 "nbformat_minor": 5
}
